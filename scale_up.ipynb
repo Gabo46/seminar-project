{
 "cells": [
  {
   "cell_type": "code",
   "execution_count": 32,
   "id": "obvious-orlando",
   "metadata": {},
   "outputs": [],
   "source": [
    "import numpy as np\n",
    "from PIL import Image\n",
    "from ISR.models import RDN, RRDN"
   ]
  },
  {
   "cell_type": "code",
   "execution_count": 33,
   "id": "african-express",
   "metadata": {},
   "outputs": [],
   "source": [
    "def scale_up(rdn, directory):\n",
    "    for i in range(1, 5):\n",
    "        factor = 2**i\n",
    "        current_image = np.array(Image.open(\"{}/x{}.jpg\".format(directory, factor)))\n",
    "        for j in range(i):\n",
    "            current_image = rdn.predict(current_image)\n",
    "        Image.fromarray(current_image).save(\"{}/x{}_scaled.jpg\".format(directory, factor), \"JPEG\", quality=100)"
   ]
  },
  {
   "cell_type": "code",
   "execution_count": 34,
   "id": "municipal-grace",
   "metadata": {},
   "outputs": [],
   "source": [
    "rdn = RDN(weights='psnr-small') # alt: gans"
   ]
  },
  {
   "cell_type": "code",
   "execution_count": 35,
   "id": "smooth-bikini",
   "metadata": {},
   "outputs": [],
   "source": [
    "scale_up(rdn, \"images/face\")"
   ]
  },
  {
   "cell_type": "code",
   "execution_count": 29,
   "id": "through-forestry",
   "metadata": {},
   "outputs": [],
   "source": [
    "rrdn = RDN(weights='noise-cancel')"
   ]
  },
  {
   "cell_type": "code",
   "execution_count": 36,
   "id": "irish-banking",
   "metadata": {},
   "outputs": [],
   "source": [
    "def scale_up2(rdn, directory, factors):\n",
    "    for f in factors:\n",
    "        current_image = np.array(Image.open(\"{}/{}.jpg\".format(directory, f)))\n",
    "        Image.fromarray(current_image).save(\"{}/{}_scaled.jpg\".format(directory, f), \"JPEG\", quality=100)"
   ]
  },
  {
   "cell_type": "code",
   "execution_count": 37,
   "id": "laughing-apparel",
   "metadata": {},
   "outputs": [],
   "source": [
    "scale_up2(rrdn, \"images/face\", [30, 60, 75, 85, 95])"
   ]
  },
  {
   "cell_type": "code",
   "execution_count": null,
   "id": "western-tennis",
   "metadata": {},
   "outputs": [],
   "source": []
  }
 ],
 "metadata": {
  "kernelspec": {
   "display_name": "Python 3",
   "language": "python",
   "name": "python3"
  },
  "language_info": {
   "codemirror_mode": {
    "name": "ipython",
    "version": 3
   },
   "file_extension": ".py",
   "mimetype": "text/x-python",
   "name": "python",
   "nbconvert_exporter": "python",
   "pygments_lexer": "ipython3",
   "version": "3.7.6"
  }
 },
 "nbformat": 4,
 "nbformat_minor": 5
}
