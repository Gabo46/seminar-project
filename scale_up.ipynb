{
 "cells": [
  {
   "cell_type": "code",
   "execution_count": 8,
   "id": "hourly-showcase",
   "metadata": {},
   "outputs": [],
   "source": [
    "import numpy as np\n",
    "from PIL import Image\n",
    "from ISR.models import RDN, RRDN"
   ]
  },
  {
   "cell_type": "code",
   "execution_count": 9,
   "id": "infectious-deficit",
   "metadata": {},
   "outputs": [],
   "source": [
    "def scale_up(rdn, directory):\n",
    "    for i in range(1, 5):\n",
    "        factor = 2**i\n",
    "        current_image = np.array(Image.open(\"{}/x{}.jpg\".format(directory, factor)))\n",
    "        for j in range(i):\n",
    "            current_image = rdn.predict(current_image)\n",
    "        Image.fromarray(current_image).save(\"{}/x{}_scaled.jpg\".format(directory, factor), \"JPEG\", quality=100)"
   ]
  },
  {
   "cell_type": "code",
   "execution_count": 10,
   "id": "anonymous-spokesman",
   "metadata": {},
   "outputs": [],
   "source": [
    "rdn = RDN(weights='psnr-small')"
   ]
  },
  {
   "cell_type": "code",
   "execution_count": 11,
   "id": "unexpected-filename",
   "metadata": {},
   "outputs": [],
   "source": [
    "scale_up(rdn, \"images/cartoon\")"
   ]
  },
  {
   "cell_type": "code",
   "execution_count": 12,
   "id": "closing-sacrifice",
   "metadata": {},
   "outputs": [],
   "source": [
    "rrdn = RDN(weights='noise-cancel') # alt: gans"
   ]
  },
  {
   "cell_type": "code",
   "execution_count": 13,
   "id": "brazilian-humanitarian",
   "metadata": {},
   "outputs": [],
   "source": [
    "def scale_up2(rdn, directory, factors):\n",
    "    for f in factors:\n",
    "        current_image = np.array(Image.open(\"{}/{}.jpg\".format(directory, f)))\n",
    "        Image.fromarray(current_image).save(\"{}/{}_scaled.jpg\".format(directory, f), \"JPEG\", quality=100)"
   ]
  },
  {
   "cell_type": "code",
   "execution_count": 14,
   "id": "weighted-queen",
   "metadata": {},
   "outputs": [],
   "source": [
    "scale_up2(rrdn, \"images/cartoon\", [30, 60, 75, 85, 95])"
   ]
  },
  {
   "cell_type": "code",
   "execution_count": null,
   "id": "subject-imagination",
   "metadata": {},
   "outputs": [],
   "source": []
  }
 ],
 "metadata": {
  "kernelspec": {
   "display_name": "Python 3",
   "language": "python",
   "name": "python3"
  },
  "language_info": {
   "codemirror_mode": {
    "name": "ipython",
    "version": 3
   },
   "file_extension": ".py",
   "mimetype": "text/x-python",
   "name": "python",
   "nbconvert_exporter": "python",
   "pygments_lexer": "ipython3",
   "version": "3.7.6"
  }
 },
 "nbformat": 4,
 "nbformat_minor": 5
}
