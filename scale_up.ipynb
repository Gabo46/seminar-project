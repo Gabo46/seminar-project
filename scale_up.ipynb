{
 "cells": [
  {
   "cell_type": "code",
   "execution_count": 1,
   "id": "significant-queens",
   "metadata": {},
   "outputs": [],
   "source": [
    "import numpy as np\n",
    "from PIL import Image\n",
    "from ISR.models import RDN"
   ]
  },
  {
   "cell_type": "code",
   "execution_count": 5,
   "id": "accredited-expression",
   "metadata": {},
   "outputs": [],
   "source": [
    "def scale_up(rdn, directory, name):\n",
    "    for i in range(1, 5):\n",
    "        factor = 2**i\n",
    "        current_image = np.array(Image.open(\"{}/original/{}_x{}.jpg\".format(directory, name, factor)))\n",
    "        for j in range(i):\n",
    "            current_image = rdn.predict(current_iamge)\n",
    "        Image.fromarray(current_image).save(\"{}/scaled/{}_x{}.jpg\", format(directory, name, factor), \"JPEG\", quality=100)"
   ]
  },
  {
   "cell_type": "code",
   "execution_count": 3,
   "id": "intimate-mistress",
   "metadata": {},
   "outputs": [],
   "source": [
    "rdn = RDN(weights='psnr-small') # alt: gans"
   ]
  },
  {
   "cell_type": "code",
   "execution_count": 6,
   "id": "solid-eagle",
   "metadata": {},
   "outputs": [],
   "source": [
    "#scale_up(rdn, \"images/face\", \"face\")"
   ]
  },
  {
   "cell_type": "code",
   "execution_count": null,
   "id": "finite-microwave",
   "metadata": {},
   "outputs": [],
   "source": []
  }
 ],
 "metadata": {
  "kernelspec": {
   "display_name": "Python 3",
   "language": "python",
   "name": "python3"
  },
  "language_info": {
   "codemirror_mode": {
    "name": "ipython",
    "version": 3
   },
   "file_extension": ".py",
   "mimetype": "text/x-python",
   "name": "python",
   "nbconvert_exporter": "python",
   "pygments_lexer": "ipython3",
   "version": "3.7.6"
  }
 },
 "nbformat": 4,
 "nbformat_minor": 5
}
