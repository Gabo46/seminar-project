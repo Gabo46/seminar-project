{
 "cells": [
  {
   "cell_type": "code",
   "execution_count": 5,
   "id": "undefined-paintball",
   "metadata": {},
   "outputs": [
    {
     "data": {
      "application/vnd.jupyter.widget-view+json": {
       "model_id": "ef13be0004b94e9ca8a901859b4843c8",
       "version_major": 2,
       "version_minor": 0
      },
      "text/plain": [
       "interactive(children=(IntSlider(value=1, description='x', max=4, min=1), Output()), _dom_classes=('widget-inte…"
      ]
     },
     "metadata": {},
     "output_type": "display_data"
    }
   ],
   "source": [
    "import ipywidgets as wg\n",
    "from PIL import Image\n",
    "\n",
    "def f(x):\n",
    "    if x == 1:\n",
    "        return Image.open(\"images/cartoon/original.jpg\")\n",
    "    elif x == 2:\n",
    "        return Image.open(\"images/cartoon/x2_scaled.jpg\")\n",
    "    elif x == 3:\n",
    "        return Image.open(\"images/cartoon/x4_scaled.jpg\")\n",
    "    else:\n",
    "        return Image.open(\"images/cartoon/x8_scaled.jpg\")\n",
    "\n",
    "wg.interact(f, x=wg.IntSlider(min=1,max=4,step=1));"
   ]
  },
  {
   "cell_type": "code",
   "execution_count": null,
   "id": "gentle-senate",
   "metadata": {},
   "outputs": [],
   "source": []
  }
 ],
 "metadata": {
  "kernelspec": {
   "display_name": "Python 3",
   "language": "python",
   "name": "python3"
  },
  "language_info": {
   "codemirror_mode": {
    "name": "ipython",
    "version": 3
   },
   "file_extension": ".py",
   "mimetype": "text/x-python",
   "name": "python",
   "nbconvert_exporter": "python",
   "pygments_lexer": "ipython3",
   "version": "3.7.6"
  }
 },
 "nbformat": 4,
 "nbformat_minor": 5
}
