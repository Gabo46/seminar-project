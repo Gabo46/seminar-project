{
 "cells": [
  {
   "cell_type": "markdown",
   "id": "purple-integration",
   "metadata": {},
   "source": [
    "# Auswirkungen der Image Super-Resolution auf die Bildqualität"
   ]
  },
  {
   "cell_type": "markdown",
   "id": "latin-observer",
   "metadata": {},
   "source": [
    "### Gabriel Dogadov, Samy Hamdad, Muhammed Aydin, Aleksandrs Frank"
   ]
  },
  {
   "cell_type": "markdown",
   "id": "pressing-layout",
   "metadata": {},
   "source": [
    "## 1. Einleitung\n",
    "\n"
   ]
  },
  {
   "cell_type": "markdown",
   "id": "demanding-bridal",
   "metadata": {},
   "source": [
    "In den letzten Jahren ist ein starker Fortschritt im Machine Learning zu verzeichnen. Ein Grund dafür sind neuronale Netzwerke, welche sich als sehr mächtig und vielfältig herausgestellt haben. Vor allem für <a href=\"https://de.wikipedia.org/wiki/Computer_Vision#:~:text=Im%20englischen%20Sprachraum%20wird%20ebenfalls,im%20industriellen%20Umfeld%20betont%20wird.\">Computer Vision</a> sind <a href=\"https://de.wikipedia.org/wiki/Convolutional_Neural_Network\">Convolutional Neural Networks</a> vielfältig einsetzbar. Eine vielversprechende Anwendung hierbei ist die Super-Resolution, bei der die Auflösung von Bildern (also die Anzahl der Pixel) stark vergrößert wird."
   ]
  },
  {
   "cell_type": "markdown",
   "id": "suited-baking",
   "metadata": {},
   "source": [
    "Das Vergrößern (Upscaling) von Bildern kann sehr nützlich sein. Statt hochauflösende Bilder zu erstellen, könnte man stattdessen kleine Bilder bequem mit Super-Resolution hochskalieren."
   ]
  },
  {
   "cell_type": "markdown",
   "id": "apparent-remains",
   "metadata": {},
   "source": [
    "<img src=\"images/upscaling.svg\" />"
   ]
  },
  {
   "cell_type": "markdown",
   "id": "exterior-alliance",
   "metadata": {},
   "source": [
    "Beim Hochskalieren werden meist kleine Bilder auf größere Bilder mit deutlich mehr Pixeln abgebildet. Es reicht nicht die Pixelwerte vom Originalbild in das skalierte Bild zu kopieren. Es bleiben weitere Pixel übrig, denen man Werte zuweisen muss."
   ]
  },
  {
   "cell_type": "markdown",
   "id": "circular-swimming",
   "metadata": {},
   "source": [
    "Eine herkömmliche Methode zum Füllen der Pixel bei vergrößerten Bildern ist die <a href=\"https://en.wikipedia.org/wiki/Bicubic_interpolation\">Bikubische Interpolation</a>. Das Verfahren erzeugt aber häufig unscharfe Bilder, sodass die Bildqualität nach dessen Anwendung darunter leidet. Eine Lösung für dieses Problem soll die Image Super-Resolution liefern. Dazu wird ein neuronales Netzwerk darauf trainiert, Bilder unterschiedlicher Größen so zu vergrößern, dass die Bildqualität erhalten bleibt."
   ]
  },
  {
   "cell_type": "markdown",
   "id": "cooked-discovery",
   "metadata": {},
   "source": [
    "In diesem Bild sieht man ein um den Faktor 4 vergrößertes Bild. Die bikubische Interpolation liefert ein unscharfes Bild, wohingegen SRResNet und SRGAN, welche auf neuronalen Netzen basieren, deutlich bessere Ergebnisse liefern. \n",
    "\n",
    "<img src=\"images/methods.png\" />\n",
    "\n",
    "Das Bild wurde aus Ledig et al. (2017) entnommen."
   ]
  },
  {
   "cell_type": "markdown",
   "id": "virtual-rendering",
   "metadata": {},
   "source": [
    "Zwar ist das Verfahren noch sehr jung, trotzdem gibt es bereits kommerzielle Anbieter\n",
    "(<a href=\"https://bigjpg.com/\">Bigjpg</a>, <a href=\"https://letsenhance.io/\">LetsEnhance.io</a>, \n",
    " <a href=\"https://deepai.org/machine-learning-model/torch-srgan\">DeepAI</a>), \n",
    "die versprechen unsere Bilder ohne jegliche Qualitätsverluste hoch zu skalieren. Diesem Versprechen möchten wir im Folgenden auf den Grund gehen.<br>\n",
    "Neben der reinen Hochskalierung gibt es zusätzlich die Möglichkeit Noise von Bildern zu entfernen. Die Noise Cancellation kann also dafür sorgen, dass nicht nur die Bilder ohne Qualitätsverlust vergrößert werden, sondern auch die Bildqualität durch das Entfernen von Noise verbessert wird."
   ]
  },
  {
   "cell_type": "markdown",
   "id": "underlying-moderator",
   "metadata": {},
   "source": [
    "Das führt uns zu unserer Fragestellung, der wir auf den Grund gehen wollen: __Wie verändert sich die Bildqualität nach Anwendung der Super-Resolution?__"
   ]
  },
  {
   "cell_type": "markdown",
   "id": "healthy-adelaide",
   "metadata": {},
   "source": [
    "Statt jeden Anbieter einzeln zu testen, testen wir die Super-Resolution mit der <a href=\"https://github.com/idealo/image-super-resolution\" target=\"_blank\">Idealo Super-Resolution Library</a>. Wir untersuchen hierbei die Möglichkeiten und Grenzen des Verfahrens.<br>\n",
    "Die <a href=\"https://github.com/idealo/image-super-resolution\" target=\"_blank\">Idealo Super-Resolution Library</a> bietet unterschiedliche Typen von neuronalen Netzwerken an, welche neben der Skalierung auch Noise Cancellation durchführen. Die Library bietet die Möglichkeit ein neuronales Netzwerk selbst zu trainieren oder ein bereits trainiertes zu verwenden. Die vortrainierten Netzwerke kommen mit unterschiedlichen Gewichten, wobei wir keine Gewichte speziell ausgewählt haben, sondern die Standardeinstellung übernommen haben."
   ]
  },
  {
   "cell_type": "markdown",
   "id": "dress-craps",
   "metadata": {},
   "source": [
    "Wir testen die Super-Resolution dann auf zwei verschiedene Weisen. Im ersten Experiment untersuchen wir die Bildqualität in Abhängigkeit von der Vergrößerungsstufe. Wir testen die Stufen x2, x4, x8 und x16 aus, wobei x2 bedeutet, dass sowohl Höhe als auch Breite um den Faktor 2 skaliert wird. Die tatsächliche Anzahl der Pixel wird hierbei auf das 4-fache erhöht.<br>\n",
    "Zum Testen der Noise Cancellation skalieren wir die Bilder stets um den Faktor 2 (also die Anzahl der Pixel vervierfacht sich), aber vorher werden die Bilder mit JPEG komprimiert. Wir nutzen die Komprimierungsstufen 30%, 60%, 75%, 85% und 95% (die Komprimierungsstufe ist 100 - Quality-Parameter in PIL). Unsere Komprimierungsstufen sind nicht gleichmäßig verteilt, da kleine Komprimierungen oftmals kaum sichtbar sind. So können wir mehr hohe Komprimierungsstufen austesten und genauer ermitteln, ab welcher Komprimierung sich das Originalbild nicht mehr in guter Qualität wiederherstellen lässt."
   ]
  },
  {
   "cell_type": "markdown",
   "id": "exempt-arkansas",
   "metadata": {},
   "source": [
    "Nach einigen Versuchen konnten wir beobachten, dass die Bildqualität bei großen Vergrößerungsfaktoren sowie hohen Komprimierungen sich wahrnehmbar verschlechtert und formulierten unsere Hypothesen wie folgt:"
   ]
  },
  {
   "cell_type": "markdown",
   "id": "dressed-wrapping",
   "metadata": {},
   "source": [
    "### Hypothesen\n",
    "\n",
    "1. Bei kleinen Vergrößerungs- und Komprimierungsstufen ist ein Qualitätsunterschied kaum wahrnehmbar.\n",
    "\n",
    "2. Bei größeren Vergrößerungs- und Komprimierungsstufen verschlechtert sich die Bildqualität spürbar.\n"
   ]
  },
  {
   "cell_type": "markdown",
   "id": "copyrighted-exposure",
   "metadata": {},
   "source": [
    "## 2. Experimentelles Design"
   ]
  },
  {
   "cell_type": "markdown",
   "id": "meaningful-causing",
   "metadata": {},
   "source": [
    "Für das Experiment wurden drei unterschiedliche Bilder verwendet: Ein Bild aus einem Cartoon mit kräftigen Farben, ein Gesichtsbild sowie eine Landschaft. Die drei unterschiedlichen Bildtypen kommen daher zustande, dass eventuell Unterschiede abhängig vom Typus des Bildes zustande kommen können. Zunächst wissen wir nicht mit welchen Bildern das neuronale Netz trainiert wurde. Abhängig von den Trainingsdaten können immense Unterschiede auftreten. Zudem kann das Bild selbst von Bedeutung sein, wie zum Beispiel die Farben oder die Anordnung der Pixel."
   ]
  },
  {
   "cell_type": "markdown",
   "id": "continuous-rough",
   "metadata": {},
   "source": [
    "#### Unsere Bilder (verkleinert)\n",
    "\n",
    "\n",
    "<div style=\"display:flex\" class=\"text-center\">\n",
    "    <div>\n",
    "        <img src=\"images/original_images.png\">\n",
    "    </div>\n",
    "</div>\n",
    "<div>\n",
    "      <div>Bildquelle Cartoon: <a href=\"https://www.wallpapertip.com/wpic/obwwTm_cute-cartoon-wallpaper-backgrounds-tom-and-jerry/\">https://www.wallpapertip.com/wpic/obwwTm_cute-cartoon-wallpaper-backgrounds-tom-and-jerry/</a></div>\n",
    "      <div>Bildquelle Gesicht: <a href=\"https://www.pexels.com/photo/man-in-yellow-crew-neck-t-shirt-4001263/\"> https://www.pexels.com/photo/man-in-yellow-crew-neck-t-shirt-4001263/</a>\n",
    "      </div>\n",
    "      <div>Bildquelle Landschaft: <a href=\"https://www.pexels.com/photo/pathway-in-between-of-green-grass-field-67211/\">https://www.pexels.com/photo/pathway-in-between-of-green-grass-field-67211</a>\n",
    "      </div>\n",
    "</div>\n",
    "\n",
    "Die Originalbilder in der Originalgröße sind im Anhang verlinkt."
   ]
  },
  {
   "cell_type": "markdown",
   "id": "south-portfolio",
   "metadata": {},
   "source": [
    "Da die Super-Resolution darauf abzielt, große Bilder zu erzeugen, wollten wir möglichst große Bilder vergleichen, die aber auf einen Full-HD (1920x1080px) Bildschirm passen. Um dies zu erreichen, haben wir unsere Originalbilder mit den Größen 961x540px, 856x540px und 812x540px künstlich verkleinert und im Nachhinein versucht sie möglichst gut wiederherzustellen.<br>\n",
    "Zunächst wurden unsere Originalbilder verkleinert, sodass sowohl Länge als auch Breite um die Faktoren 2, 4, 8 bzw. 16 verkleinert werden. Zusätzlich wurden die Bilder, dessen Länge und Breite halbiert wurden, mittels JPEG Komprimierung komprimiert. Anschließend wurden Bilder mit Super-Resolution und ggf. Noise Cancellation wieder hochskaliert und mit dem Originalbild mittels Maximum Likelihood Difference Scaling (MLDS) wie bei Charrier et al. (2007) verglichen.<br>\n",
    "Da MLDS keine direkte Skala für die Bildqualität darstellt, gehen wir davon aus, dass das Originalbild stets die beste Bildqualität hat. Diese Annahme bewahrheitet sich im Folgenden für höhere Skalierungs- bzw. Komprimierungsstufen. "
   ]
  },
  {
   "cell_type": "markdown",
   "id": "saving-steering",
   "metadata": {},
   "source": [
    "<img src=\"images/flow.svg\" />"
   ]
  },
  {
   "cell_type": "markdown",
   "id": "handmade-judges",
   "metadata": {},
   "source": [
    "### JPEG Komprimierung der Bilder mittels PIL"
   ]
  },
  {
   "cell_type": "markdown",
   "id": "taken-enlargement",
   "metadata": {},
   "source": [
    "```python\n",
    "from PIL import Image\n",
    "\n",
    "rates = [30, 60, 75, 85, 95] # Compression rates\n",
    "\n",
    "def save_compressed(img, directory):\n",
    "    \"\"\"\n",
    "    Speichert das Bild in verschiedenen Komprimierungsstufen\n",
    "    \n",
    "    Parameter\n",
    "    ---------\n",
    "    img : Image\n",
    "        Das Bild, welches komprimiert werden soll\n",
    "    directory : str\n",
    "        Pfad, in dem die komprimierten Bilder hinterlegt werden sollen\n",
    "    \n",
    "    \"\"\"\n",
    "    \n",
    "    for rate in rates:\n",
    "        quality = 100 - rate\n",
    "        img.save(\"{}/{}.jpg\".format(directory, rate), \"JPEG\", quality=quality)\n",
    "\n",
    "img = Image.open(\"PATH_TO_IMG\")\n",
    "save_compressed(face, \"PATH_TO_FOLDER_WITH_IMAGES\")\n",
    "```"
   ]
  },
  {
   "cell_type": "markdown",
   "id": "roman-sentence",
   "metadata": {},
   "source": [
    "### Image Superresolution mit der <a href=\"https://github.com/idealo/image-super-resolution\" target=\"_blank\">Idealo ISR Library</a>"
   ]
  },
  {
   "cell_type": "markdown",
   "id": "accepted-occasion",
   "metadata": {},
   "source": [
    "```python\n",
    "import numpy as np\n",
    "from PIL import Image\n",
    "from ISR.models import RDN\n",
    "\n",
    "def scale_up(rdn, directory):\n",
    "    \"\"\"\n",
    "    Upscaling für die Bilder in verschiedenen Stufen (x2, x4, x8, x16)\n",
    "    \n",
    "    Parameter\n",
    "    ---------\n",
    "    rdn : RDN\n",
    "        Trainiertes Neuronales Netzwerk\n",
    "    directory : str\n",
    "        Pfad zum Ordner mit den Bildern\n",
    "    \n",
    "    \"\"\"\n",
    "    \n",
    "    for i in range(1, 5):\n",
    "        factor = 2**i\n",
    "        current_image = np.array(Image.open(\"{}/x{}.jpg\".format(directory, factor)))\n",
    "        for j in range(i):\n",
    "            current_image = rdn.predict(current_image)\n",
    "        Image.fromarray(current_image).save(\"{}/x{}_scaled.jpg\".format(directory, factor), \"JPEG\", quality=100)\n",
    "\n",
    "def scale_up2(rdn, directory, rates):\n",
    "    \"\"\"\n",
    "    Upscaling für die Bilder (x2) mit Noise-Cancellation\n",
    "    \n",
    "    Parameter\n",
    "    ---------\n",
    "    rdn : RDN\n",
    "        Trainiertes Neuronales Netzwerk\n",
    "    directory : str\n",
    "        Pfad zum Ordner mit den Bildern\n",
    "    rates : list\n",
    "        Liste mit Komprimierungsstufen als Ganzzahl (0-100)\n",
    "    \n",
    "    \"\"\"\n",
    "    \n",
    "    for rate in rates:\n",
    "        current_image = np.array(Image.open(\"{}/{}.jpg\".format(directory, rate)))\n",
    "        current_image = rdn.predict(current_image)\n",
    "        Image.fromarray(current_image).save(\"{}/{}_scaled.jpg\".format(directory, rate), \"JPEG\", quality=100)\n",
    "        \n",
    "rdn = RDN(weights='psnr-small') # Nur Upscaling\n",
    "rdn2 = RDN(weights='noise-cancel') # Upscaling + Noise cancellation\n",
    "        \n",
    "scale_up(rdn, \"PATH_TO_FOLDER_WITH_IMAGES\")\n",
    "scale_up2(rdn2, \"PATH_TO_FOLDER_WITH_IMAGES\", rates = [30, 60, 75, 85, 95])\n",
    "   \n",
    "```"
   ]
  },
  {
   "cell_type": "markdown",
   "id": "single-musical",
   "metadata": {},
   "source": [
    "### Maximum Likelihood Difference Scaling\n",
    "\n",
    "Die Bilder wurden mit MLDS verglichen: Der Experimentator bekam drei Bilder gleichzeitig angezeigt, wovon zwei Bilder oben in einer Reihe und das dritte Bild unten alleine angezeigt wurde. Der Experimentator musste entscheiden, welches der beiden oberen Bilder dem Bild unten weniger ähnlich sieht. Das MLDS Experiment mit Triaden wurde von jeder Versuchsperson fünf mal durchgeführt.\n",
    "\n",
    "Im ersten Teilexperiment wurden die Skalierungsstufen (x2, x4, x8, x16) variiert und es wurde keine Komprimierung verwendet. Mit dem Original sind es 5 verschiedene Bilder."
   ]
  },
  {
   "cell_type": "markdown",
   "id": "rental-printer",
   "metadata": {},
   "source": [
    "<img src=\"images/mlds1.jpg\" />"
   ]
  },
  {
   "cell_type": "markdown",
   "id": "historic-manual",
   "metadata": {},
   "source": [
    "Im zweiten Teilexperiment wurden die Komprimierungsstufen (30%, 60%, 75%, 85%, 95%) variiert und die Skalierungsstufe war fest auf x2. Mit dem Originalbild sind es insgesamt sechs Bilder."
   ]
  },
  {
   "cell_type": "markdown",
   "id": "historic-deadline",
   "metadata": {},
   "source": [
    "<img src=\"images/mlds2.jpg\" />"
   ]
  },
  {
   "cell_type": "markdown",
   "id": "weighted-rwanda",
   "metadata": {},
   "source": [
    "Insgesamt hat jede Versuchsperson 450 Vergleiche durchgeführt, welche dann mit dem <a href=\"mlds/mlds_analysis.R\">R Script</a> ausgewertet wurden."
   ]
  },
  {
   "cell_type": "markdown",
   "id": "forty-richmond",
   "metadata": {},
   "source": [
    "## 3. Ergebnisse"
   ]
  },
  {
   "cell_type": "markdown",
   "id": "falling-membrane",
   "metadata": {},
   "source": [
    "Zunächst sieht man im Folgenden die im Experiment verwendeten Bilder für das Gesichtsbild. \n",
    "Für kleine Vergrößerungen und wenig Komprimierung ist kaum ein Unterschied zu erkennen, wohingegen die stark vergrößerten \n",
    "bzw. stark komprimierten Bilder deutlich als solche zu erkennen sind."
   ]
  },
  {
   "cell_type": "markdown",
   "id": "technical-england",
   "metadata": {},
   "source": [
    "<img src=\"images/face/scaling_animated.gif\" />"
   ]
  },
  {
   "cell_type": "markdown",
   "id": "nutritional-timer",
   "metadata": {},
   "source": [
    "<img src=\"images/face/compression_animated.gif\" />\n",
    "\n",
    "Die Bilder mit kleiner Komprimierungsstufe sehen dem Original zwar ähnlich, sind aber deutlich heller als das Originalbild. Dies könnte an den Trainingsdaten des neuronalen Netzwerks liegen."
   ]
  },
  {
   "cell_type": "markdown",
   "id": "asian-information",
   "metadata": {},
   "source": [
    "Einen Unterschied sieht man auch deutlich im Horizontal Cut. \n",
    "Hier sieht man die Intensität aller Pixel des Bildes, die sich auf dem Streifen auf mittlerer Höhe befinden.\n",
    "Die rote/grüne/blaue Funktion stellt hierbei die jeweilige R/G/B-Intensität dar."
   ]
  },
  {
   "cell_type": "markdown",
   "id": "endangered-baker",
   "metadata": {},
   "source": [
    "### Horizontal Cuts für verschiedene Skalierungsstufen (Gesicht)\n",
    "\n",
    "<img src=\"images/face/horizontal_cut_scaling.png\" width=\"85%\" />"
   ]
  },
  {
   "cell_type": "markdown",
   "id": "killing-award",
   "metadata": {},
   "source": [
    "Je höher der Vergrößerungsfaktor, umso mehr unterscheiden sich die Intensitäten der Pixel vom Originalbild. Außerdem ist auffällig, dass bei höherer Komprimierung die Funktion abgerundeter aussieht, d.h. starke Schwankungen in der Intensität sind kaum vorhanden."
   ]
  },
  {
   "cell_type": "markdown",
   "id": "useful-following",
   "metadata": {},
   "source": [
    "### Horizontal Cuts für verschiedene Komprimierungsstufen (Gesicht)\n",
    "\n",
    "<img src=\"images/face/horizontal_cut_compression.png\" width=\"85%\" />"
   ]
  },
  {
   "cell_type": "markdown",
   "id": "presidential-measurement",
   "metadata": {},
   "source": [
    "Das gleiche kann man auch für die verschiendenen Komprimierungen sagen: Je höher die Komprimierung, umso weniger ähnelt die Funktion dem Original."
   ]
  },
  {
   "cell_type": "markdown",
   "id": "innovative-restriction",
   "metadata": {},
   "source": [
    "### Auswertung für verschiedene Skalierungsstufen\n",
    "\n",
    "<img src=\"images/res_scaling.png\" />"
   ]
  },
  {
   "cell_type": "code",
   "execution_count": null,
   "id": "married-marking",
   "metadata": {},
   "outputs": [],
   "source": [
    "Bis zur Skalierungsstufe 2 ist die Skala flach bzw. leicht negativ, was darauf hindeutet, dass die Bildqualität ähnlich zum Original ist.\n",
    "Ab "
   ]
  },
  {
   "cell_type": "markdown",
   "id": "economic-tunisia",
   "metadata": {},
   "source": [
    "### Auswertung für verschiedene Komprimierungsstufen\n",
    "\n",
    "<img src=\"images/res_comp.png\" />"
   ]
  },
  {
   "cell_type": "markdown",
   "id": "liquid-christianity",
   "metadata": {},
   "source": [
    "## 4. Diskussion\n",
    "\n",
    "Wir sehen, dass die \n",
    "\n",
    "### Mögliche Probleme\n",
    "\n",
    "Zwar hat sich die Hypothese weitesgehend bestätigt, jedoch sind hier noch einige Anmerkungen:\n",
    "<ul>\n",
    "    <li>Außer uns selbst gab es keine weiteren Probanden. Zunächst ist es fraglich, ob vier Probanden eine Aussage über die Allgemeinheit treffen können. Außerdem sind die Probanden voreingenommen, da ihnen die Bilder und die Hypothese bekannt ist.</li>\n",
    "    <li>\n",
    "        Es wurden lediglich drei Bilder und wenige Vergrößerungs- und Komprimierungsstufen verwendet. Für eine allgemeine Aussage sind definitiv mehr und umfangreichere Experimente notwendig. Leider ist das Verfahren (MLDS) sehr aufwendig und skaliert schlecht mit der Anzahl an Variationen.\n",
    "    </li>\n",
    "    <li>\n",
    "        In diesem Experiment wurden die Verfahren bis an ihre Grenzen getestet. Es ist durchaus unrealistisch, dass man Bilder um den Faktor 16 vergrößern möchte oder 95%-ige JPEG Komprimierung wiederherstellen möchte. Dazu ist das Verfahren auch nicht gedacht.\n",
    "    </li>\n",
    "    <li>\n",
    "        Die Trainingsdaten des neuronalen Netzwerks sind nicht bekannt, aber von hoher Relevanz.\n",
    "    </li>\n",
    "</ul>\n",
    "\n",
    "\n",
    "### Offene Fragen\n",
    "\n",
    "Abschließend kann man sagen, dass das Super-Resolution für kleine Vergrößerungen und Komprimierungen gut funktioniert. Leider können wir nicht genau sagen, inwiefern das Verfahren besser ist als die bikubische Interpolation. Ein direkter Vergleich zwischen der Super-Resolution und der bikubischen Interpolation ist durchaus interessant. Zudem "
   ]
  },
  {
   "cell_type": "markdown",
   "id": "massive-criterion",
   "metadata": {},
   "source": [
    "## 5. Anhang\n",
    "\n",
    "### Unsere Bilder\n",
    "\n",
    "<table class=\"table\">\n",
    "    <tr>\n",
    "        <th style=\"text-align:center\"></th>\n",
    "        <th style=\"text-align:center\">Cartoon</th>\n",
    "        <th style=\"text-align:center\">Gesicht</th>\n",
    "        <th style=\"text-align:center\">Landschaft</th>\n",
    "    </tr>\n",
    "    <tr>\n",
    "        <td style=\"text-align:center\">Original</td>\n",
    "        <td style=\"text-align:center\"><a href=\"images/cartoon/original.jpg\">Zum Bild</a></td>\n",
    "        <td style=\"text-align:center\"><a href=\"images/face/original.jpg\">Zum Bild</a></td>\n",
    "        <td style=\"text-align:center\"><a href=\"images/landscape/original.jpg\">Zum Bild</a></td>\n",
    "    </tr>\n",
    "    <tr>\n",
    "        <td style=\"text-align:center\">Skalierungsstufe 2</td>\n",
    "        <td style=\"text-align:center\"><a href=\"images/cartoon/x2_scaled.jpg\">Zum Bild</a></td>\n",
    "        <td style=\"text-align:center\"><a href=\"images/face/x2_scaled.jpg\">Zum Bild</a></td>\n",
    "        <td style=\"text-align:center\"><a href=\"images/landscape/x2_scaled.jpg\">Zum Bild</a></td>\n",
    "    </tr>\n",
    "    <tr>\n",
    "        <td style=\"text-align:center\">Skalierungsstufe 4</td>\n",
    "        <td style=\"text-align:center\"><a href=\"images/cartoon/x4_scaled.jpg\">Zum Bild</a></td>\n",
    "        <td style=\"text-align:center\"><a href=\"images/face/x4_scaled.jpg\">Zum Bild</a></td>\n",
    "        <td style=\"text-align:center\"><a href=\"images/landscape/x4_scaled.jpg\">Zum Bild</a></td>\n",
    "    </tr>\n",
    "    <tr>\n",
    "        <td style=\"text-align:center\">Skalierungsstufe 8</td>\n",
    "        <td style=\"text-align:center\"><a href=\"images/cartoon/x8_scaled.jpg\">Zum Bild</a></td>\n",
    "        <td style=\"text-align:center\"><a href=\"images/face/x8_scaled.jpg\">Zum Bild</a></td>\n",
    "        <td style=\"text-align:center\"><a href=\"images/landscape/x8_scaled.jpg\">Zum Bild</a></td>\n",
    "    </tr>\n",
    "    <tr>\n",
    "        <td style=\"text-align:center\">Skalierungsstufe 16</td>\n",
    "        <td style=\"text-align:center\"><a href=\"images/cartoon/x16_scaled.jpg\">Zum Bild</a></td>\n",
    "        <td style=\"text-align:center\"><a href=\"images/face/x16_scaled.jpg\">Zum Bild</a></td>\n",
    "        <td style=\"text-align:center\"><a href=\"images/landscape/x16_scaled.jpg\">Zum Bild</a></td>\n",
    "    </tr>\n",
    "    <tr>\n",
    "        <td style=\"text-align:center\">30% Komprimierung</td>\n",
    "        <td style=\"text-align:center\"><a href=\"images/cartoon/30_scaled.jpg\">Zum Bild</a></td>\n",
    "        <td style=\"text-align:center\"><a href=\"images/face/30_scaled.jpg\">Zum Bild</a></td>\n",
    "        <td style=\"text-align:center\"><a href=\"images/landscape/30_scaled.jpg\">Zum Bild</a></td>\n",
    "    </tr>\n",
    "    <tr>\n",
    "        <td style=\"text-align:center\">60% Komprimierung</td>\n",
    "        <td style=\"text-align:center\"><a href=\"images/cartoon/60_scaled.jpg\">Zum Bild</a></td>\n",
    "        <td style=\"text-align:center\"><a href=\"images/face/60_scaled.jpg\">Zum Bild</a></td>\n",
    "        <td style=\"text-align:center\"><a href=\"images/landscape/60_scaled.jpg\">Zum Bild</a></td>\n",
    "    </tr>\n",
    "    <tr>\n",
    "        <td style=\"text-align:center\">75% Komprimierung</td>\n",
    "        <td style=\"text-align:center\"><a href=\"images/cartoon/75_scaled.jpg\">Zum Bild</a></td>\n",
    "        <td style=\"text-align:center\"><a href=\"images/face/75_scaled.jpg\">Zum Bild</a></td>\n",
    "        <td style=\"text-align:center\"><a href=\"images/landscape/75_scaled.jpg\">Zum Bild</a></td>\n",
    "    </tr>\n",
    "    <tr>\n",
    "        <td style=\"text-align:center\">85% Komprimierung</td>\n",
    "        <td style=\"text-align:center\"><a href=\"images/cartoon/85_scaled.jpg\">Zum Bild</a></td>\n",
    "        <td style=\"text-align:center\"><a href=\"images/face/85_scaled.jpg\">Zum Bild</a></td>\n",
    "        <td style=\"text-align:center\"><a href=\"images/landscape/85_scaled.jpg\">Zum Bild</a></td>\n",
    "    </tr>\n",
    "    <tr>\n",
    "        <td style=\"text-align:center\">95% Komprimierung</td>\n",
    "        <td style=\"text-align:center\"><a href=\"images/cartoon/95_scaled.jpg\">Zum Bild</a></td>\n",
    "        <td style=\"text-align:center\"><a href=\"images/face/95_scaled.jpg\">Zum Bild</a></td>\n",
    "        <td style=\"text-align:center\"><a href=\"images/landscape/95_scaled.jpg\">Zum Bild</a></td>\n",
    "    </tr>\n",
    "    <tr>\n",
    "        <td style=\"text-align:center\">Alle Skalierungsstufen (GIF)</td>\n",
    "        <td style=\"text-align:center\"><a href=\"images/cartoon/scaling_animated.gif\">Zum Bild</a></td>\n",
    "        <td style=\"text-align:center\"><a href=\"images/face/scaling_animated.gif\">Zum Bild</a></td>\n",
    "        <td style=\"text-align:center\"><a href=\"images/landscape/scaling_animated.gif\">Zum Bild</a></td>\n",
    "    </tr>\n",
    "    <tr>\n",
    "        <td style=\"text-align:center\">Alle Komprimierungsstufen (GIF)</td>\n",
    "        <td style=\"text-align:center\"><a href=\"images/cartoon/compression_animated.gif\">Zum Bild</a></td>\n",
    "        <td style=\"text-align:center\"><a href=\"images/face/compression_animated.gif\">Zum Bild</a></td>\n",
    "        <td style=\"text-align:center\"><a href=\"images/landscape/compression_animated.gif\">Zum Bild</a></td>\n",
    "    </tr>\n",
    "    <tr>\n",
    "        <td style=\"text-align:center\">Horizontal Cut (verschiedene Skalierungsstufen)</td>\n",
    "        <td style=\"text-align:center\"><a href=\"images/cartoon/horizontal_cut_scaling.png\">Zum Bild</a></td>\n",
    "        <td style=\"text-align:center\"><a href=\"images/face/horizontal_cut_scaling.png\">Zum Bild</a></td>\n",
    "        <td style=\"text-align:center\"><a href=\"images/landscape/horizontal_cut_scaling.png\">Zum Bild</a></td>\n",
    "    </tr>\n",
    "    <tr>\n",
    "        <td style=\"text-align:center\">Horizontal Cut (verschiedene Komprimierungsstufen)</td>\n",
    "        <td style=\"text-align:center\"><a href=\"images/cartoon/horizontal_cut_compression.png\">Zum Bild</a></td>\n",
    "        <td style=\"text-align:center\"><a href=\"images/face/horizontal_cut_compression.png\">Zum Bild</a></td>\n",
    "        <td style=\"text-align:center\"><a href=\"images/landscape/horizontal_cut_compression.png\">Zum Bild</a></td>\n",
    "    </tr>\n",
    "</table>"
   ]
  },
  {
   "cell_type": "markdown",
   "id": "sticky-providence",
   "metadata": {},
   "source": [
    "### Referenzen"
   ]
  },
  {
   "cell_type": "markdown",
   "id": "august-invite",
   "metadata": {},
   "source": [
    "Charrier, C., Maloney, L. T., Cherifi, H., & Knoblauch, K. (2007). Maximum likelihood difference scaling of image quality in compression-degraded images. _JOSA A, 24_(11), 3418-3426."
   ]
  },
  {
   "cell_type": "markdown",
   "id": "infinite-evans",
   "metadata": {},
   "source": [
    "Ledig, C., Theis, L., Huszár, F., Caballero, J., Cunningham, A., Acosta, A., ... & Shi, W. (2017). Photo-realistic single image super-resolution using a generative adversarial network. In _Proceedings of the IEEE conference on computer vision and pattern recognition_ (pp. 4681-4690)."
   ]
  }
 ],
 "metadata": {
  "kernelspec": {
   "display_name": "Python 3",
   "language": "python",
   "name": "python3"
  },
  "language_info": {
   "codemirror_mode": {
    "name": "ipython",
    "version": 3
   },
   "file_extension": ".py",
   "mimetype": "text/x-python",
   "name": "python",
   "nbconvert_exporter": "python",
   "pygments_lexer": "ipython3",
   "version": "3.7.6"
  }
 },
 "nbformat": 4,
 "nbformat_minor": 5
}
