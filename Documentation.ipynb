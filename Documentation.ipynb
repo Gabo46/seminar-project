{
 "cells": [
  {
   "cell_type": "markdown",
   "id": "close-climate",
   "metadata": {},
   "source": [
    "# Auswirkungen der Image-Superresolution auf die Bildqualität"
   ]
  },
  {
   "cell_type": "markdown",
   "id": "desirable-plumbing",
   "metadata": {},
   "source": [
    "### Gabriel Dogadov, Rasmy Hamdad, Mhamad Ayden, Alex Frank"
   ]
  },
  {
   "cell_type": "markdown",
   "id": "extreme-twist",
   "metadata": {},
   "source": [
    "## 1. Einleitung\n",
    "Machine Learning ist gerade vallah krass und besonders für Computer Vision richtig mashallah"
   ]
  },
  {
   "cell_type": "markdown",
   "id": "macro-scottish",
   "metadata": {},
   "source": [
    "## 2. Experimentelles Design\n",
    "Wir haben Samy genommen und ihm gesagt er sei schwul. Er hat gestanden."
   ]
  },
  {
   "cell_type": "markdown",
   "id": "satellite-fireplace",
   "metadata": {},
   "source": [
    "## 3. Ergebnisse\n",
    "Alles wie geplant"
   ]
  },
  {
   "cell_type": "markdown",
   "id": "absent-regulation",
   "metadata": {},
   "source": [
    "## 4. Diskussion\n",
    "Dass Samy schwul ist, steht nicht zur Diskussion"
   ]
  },
  {
   "cell_type": "code",
   "execution_count": null,
   "id": "shared-client",
   "metadata": {},
   "outputs": [],
   "source": []
  }
 ],
 "metadata": {
  "kernelspec": {
   "display_name": "Python 3",
   "language": "python",
   "name": "python3"
  },
  "language_info": {
   "codemirror_mode": {
    "name": "ipython",
    "version": 3
   },
   "file_extension": ".py",
   "mimetype": "text/x-python",
   "name": "python",
   "nbconvert_exporter": "python",
   "pygments_lexer": "ipython3",
   "version": "3.7.6"
  }
 },
 "nbformat": 4,
 "nbformat_minor": 5
}
