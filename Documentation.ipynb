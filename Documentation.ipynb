{
 "cells": [
  {
   "cell_type": "markdown",
   "id": "announced-acting",
   "metadata": {},
   "source": [
    "# Auswirkungen der Image-Superresolution auf die Bildqualität"
   ]
  },
  {
   "cell_type": "markdown",
   "id": "quality-deviation",
   "metadata": {},
   "source": [
    "### Gabriel Dogadov, Rasmy Hamdad, Mhamad Ayden, Alex Frank"
   ]
  },
  {
   "cell_type": "markdown",
   "id": "forced-seattle",
   "metadata": {},
   "source": [
    "## 1. Einleitung\n",
    "\n"
   ]
  },
  {
   "cell_type": "markdown",
   "id": "sharp-contamination",
   "metadata": {},
   "source": [
    "Machine Learning ist gerade in aller Munde, Computer Vision richtig krass, Image Super Resolution ein Beispiel"
   ]
  },
  {
   "cell_type": "markdown",
   "id": "polish-renewal",
   "metadata": {},
   "source": [
    "Nutzen: Bilder vergrößern. Kleine Bilder erstellen und diese bequem hochskalieren."
   ]
  },
  {
   "cell_type": "markdown",
   "id": "coral-astrology",
   "metadata": {},
   "source": [
    "<img src=\"images/upscaling.svg\" />"
   ]
  },
  {
   "cell_type": "markdown",
   "id": "statutory-popularity",
   "metadata": {},
   "source": [
    "Beim Hochskalieren werden Bilder auf größere Bilder mit deutlich mehr Pixeln abgebildet. Es reicht nicht die Pixelwerte vom Originalbild in das skalierte Bild zu kopieren. Es bleiben weitere Pixel übrig, denen man Werte zuweisen muss."
   ]
  },
  {
   "cell_type": "markdown",
   "id": "capable-arbitration",
   "metadata": {},
   "source": [
    "Eine herkömmliche Methode zum Füllen der Pixel bei vergrößerten Bildern ist die <a href=\"https://en.wikipedia.org/wiki/Bicubic_interpolation\">Bikubische Interpolation</a>. Das Verfahren erzeugt aber häufig unscharfe Bilder, sodass die Bildqualität nach dessen Anwendung darunter leidet. Eine Lösung für dieses Problem soll die Image Super Resolution liefern. Dazu wird ein neuronales Netzwerk darauf trainiert, Bilder unterschiedlicher Größen so zu vergrößern, dass die Bildqualität erhalten bleibt."
   ]
  },
  {
   "cell_type": "markdown",
   "id": "intermediate-money",
   "metadata": {},
   "source": [
    "In diesem Bild sieht man ein um den Faktor 4 vergrößertes Bild. Die bikubische Interpolation liefert ein unscharfes Bild, wohingegen SRResNet und SRGAN, welche auf neuronalen Netzen basieren, deutlich bessere Ergebnisse liefern. \n",
    "\n",
    "<img src=\"images/methods.png\" />\n",
    "\n",
    "Das Bild wurde aus Ledig et al. (2017) entnommen."
   ]
  },
  {
   "cell_type": "markdown",
   "id": "awful-weapon",
   "metadata": {},
   "source": [
    "Zwar ist das Verfahren noch sehr jung, trotzdem gibt es bereits kommerzielle Anbieter\n",
    "(<a href=\"https://bigjpg.com/\">Bigjpg</a>, <a href=\"https://letsenhance.io/\">LetsEnhance.io</a>, \n",
    " <a href=\"https://deepai.org/machine-learning-model/torch-srgan\">DeepAI</a>), \n",
    "die versprechen unsere Bilder ohne jegliche Qualitätsverluste hoch zu skalieren. Diesem Versprechen möchten wir im Folgenden auf den Grund gehen.<br>\n",
    "Neben der reinen Hochskalierung gibt es zusätzlich die Möglichkeit Noise von Bildern zu entfernen. Die Noise Cancellation kann also dafür sorgen, dass nicht nur die Bilder ohne Qualitätsverlust vergrößert werden, sondern auch die Bildqualität durch das Entfernen von Noise verbessert wird."
   ]
  },
  {
   "cell_type": "markdown",
   "id": "musical-decline",
   "metadata": {},
   "source": [
    "Das führt uns zu unserer Fragestellung, der wir auf den Grund gehen wollen: __Wie verändert sich die Bildqualität nach Anwendung der Super-Resolution?__"
   ]
  },
  {
   "cell_type": "markdown",
   "id": "major-oxide",
   "metadata": {},
   "source": [
    "Statt jeden Anbieter einzeln zu testen, testen wir die Super-Resolution mit der <a href=\"https://github.com/idealo/image-super-resolution\" target=\"_blank\">Idealo Super-Resolution Library</a>. Wir untersuchen hierbei die Möglichkeiten und Grenzen des Verfahrens.<br>\n",
    "Die <a href=\"https://github.com/idealo/image-super-resolution\" target=\"_blank\">Idealo Super-Resolution Library</a> bietet unterschiedliche Typen von neuronalen Netzwerken an, welche neben der Skalierung auch Noise Cancellation anbieten. Die Library bietet die Möglichkeit ein neuronales Netzwerk selbst zu trainieren oder ein bereits trainiertes zu verwenden. Die vortrainierten Netzwerke kommen mit unterschiedlichen Gewichten, wobei wir keine Gewichte speziell ausgewählt haben, sondern die Standardeinstellung übernommen haben."
   ]
  },
  {
   "cell_type": "markdown",
   "id": "silver-independence",
   "metadata": {},
   "source": [
    "Grenzen des Verfahrens -> Hypothesen..."
   ]
  },
  {
   "cell_type": "markdown",
   "id": "continental-ordinance",
   "metadata": {},
   "source": [
    "### Hypothesen\n",
    "\n",
    "1. Bei kleinen Vergrößerungs- und Komprimierungsstufen ist ein Qualitätsunterschied kaum wahrnehmbar.\n",
    "\n",
    "2. Bei größeren Vergrößerungs- und Komprimierungsstufen verschlechtert sich die Bildqualität spürbar.\n"
   ]
  },
  {
   "cell_type": "markdown",
   "id": "organized-dependence",
   "metadata": {},
   "source": [
    "#### Unsere Bilder\n",
    "\n",
    "\n",
    "<div style=\"display:flex\" class=\"text-center\">\n",
    "    <div>\n",
    "        <img src=\"images/original_images.png\">\n",
    "    </div>\n",
    "</div>\n",
    "<div>\n",
    "      <div>Bildquelle Cartoon: <a href=\"https://www.wallpapertip.com/wpic/obwwTm_cute-cartoon-wallpaper-backgrounds-tom-and-jerry/\">https://www.wallpapertip.com/wpic/obwwTm_cute-cartoon-wallpaper-backgrounds-tom-and-jerry/</a></div>\n",
    "      <div>Bildquelle Gesicht: <a href=\"https://www.pexels.com/photo/man-in-yellow-crew-neck-t-shirt-4001263/\"> https://www.pexels.com/photo/man-in-yellow-crew-neck-t-shirt-4001263/</a>\n",
    "      </div>\n",
    "      <div>Bildquelle Landschaft: <a href=\"https://www.pexels.com/photo/pathway-in-between-of-green-grass-field-67211/\">https://www.pexels.com/photo/pathway-in-between-of-green-grass-field-67211</a>\n",
    "      </div>\n",
    "</div>"
   ]
  },
  {
   "cell_type": "markdown",
   "id": "behavioral-serve",
   "metadata": {},
   "source": [
    "## 2. Experimentelles Design"
   ]
  },
  {
   "cell_type": "markdown",
   "id": "challenging-source",
   "metadata": {},
   "source": [
    "Zunächst wurden unsere Originalbilder verkleinert, sodass die Anzahl der Pixel beider Achsen die Hälte, ein Viertel, ein Achten und ein Sechzehntel des Originalbildes beträgt. Zusätzlich wurden die Bilder, deren Achsen um die Hälfte verkleinert wurden, mittels JPEG Komprimierung komprimiert. Anschließend wurden Bilder mit Super-Resolution wieder hochskaliert und mit dem Originalbild mittels MLDS verglichen."
   ]
  },
  {
   "cell_type": "markdown",
   "id": "capital-hydrogen",
   "metadata": {},
   "source": [
    "<img src=\"images/flow.svg\" />"
   ]
  },
  {
   "cell_type": "markdown",
   "id": "blond-injection",
   "metadata": {},
   "source": [
    "### JPEG Komprimierung der Bilder mittels PIL"
   ]
  },
  {
   "cell_type": "markdown",
   "id": "complicated-night",
   "metadata": {},
   "source": [
    "```python\n",
    "from PIL import Image\n",
    "\n",
    "rates = [30, 60, 75, 85, 95] # Compression rates\n",
    "\n",
    "def save_compressed(img, directory):\n",
    "    \"\"\"\n",
    "    Speichert das Bild in verschiedenen Komprimierungsstufen\n",
    "    \n",
    "    Parameter\n",
    "    ---------\n",
    "    img : Image\n",
    "        Das Bild, welches komprimiert werden soll\n",
    "    directory : str\n",
    "        Pfad, in dem die komprimierten Bilder hinterlegt werden sollen\n",
    "    \n",
    "    \"\"\"\n",
    "    \n",
    "    for rate in rates:\n",
    "        quality = 100 - rate\n",
    "        img.save(\"{}/{}.jpg\".format(directory, rate), \"JPEG\", quality=quality)\n",
    "\n",
    "img = Image.open(\"PATH_TO_IMG\")\n",
    "save_compressed(face, \"PATH_TO_FOLDER_WITH_IMAGES\")\n",
    "```"
   ]
  },
  {
   "cell_type": "markdown",
   "id": "announced-schema",
   "metadata": {},
   "source": [
    "### Image Superresolution mit der <a href=\"https://github.com/idealo/image-super-resolution\" target=\"_blank\">Idealo ISR Library</a>"
   ]
  },
  {
   "cell_type": "markdown",
   "id": "gentle-dryer",
   "metadata": {},
   "source": [
    "```python\n",
    "import numpy as np\n",
    "from PIL import Image\n",
    "from ISR.models import RDN\n",
    "\n",
    "def scale_up(rdn, directory):\n",
    "    \"\"\"\n",
    "    Upscaling für die Bilder in verschiedenen Stufen (x2, x4, x8, x16)\n",
    "    \n",
    "    Parameter\n",
    "    ---------\n",
    "    rdn : RDN\n",
    "        Trainiertes Neuronales Netzwerk\n",
    "    directory : str\n",
    "        Pfad zum Ordner mit den Bildern\n",
    "    \n",
    "    \"\"\"\n",
    "    \n",
    "    for i in range(1, 5):\n",
    "        factor = 2**i\n",
    "        current_image = np.array(Image.open(\"{}/x{}.jpg\".format(directory, factor)))\n",
    "        for j in range(i):\n",
    "            current_image = rdn.predict(current_image)\n",
    "        Image.fromarray(current_image).save(\"{}/x{}_scaled.jpg\".format(directory, factor), \"JPEG\", quality=100)\n",
    "\n",
    "def scale_up2(rdn, directory, rates):\n",
    "    \"\"\"\n",
    "    Upscaling für die Bilder (x2) mit Noise-Cancellation\n",
    "    \n",
    "    Parameter\n",
    "    ---------\n",
    "    rdn : RDN\n",
    "        Trainiertes Neuronales Netzwerk\n",
    "    directory : str\n",
    "        Pfad zum Ordner mit den Bildern\n",
    "    rates : list\n",
    "        Liste mit Komprimierungsstufen als Ganzzahl (0-100)\n",
    "    \n",
    "    \"\"\"\n",
    "    \n",
    "    for rate in rates:\n",
    "        current_image = np.array(Image.open(\"{}/{}.jpg\".format(directory, rate)))\n",
    "        current_image = rdn.predict(current_image)\n",
    "        Image.fromarray(current_image).save(\"{}/{}_scaled.jpg\".format(directory, rate), \"JPEG\", quality=100)\n",
    "        \n",
    "rdn = RDN(weights='psnr-small') # Nur Upscaling\n",
    "rdn2 = RDN(weights='noise-cancel') # Upscaling + Noise cancellation\n",
    "        \n",
    "scale_up(rdn, \"PATH_TO_FOLDER_WITH_IMAGES\")\n",
    "scale_up2(rdn2, \"PATH_TO_FOLDER_WITH_IMAGES\", rates = [30, 60, 75, 85, 95])\n",
    "   \n",
    "```"
   ]
  },
  {
   "cell_type": "markdown",
   "id": "filled-calculation",
   "metadata": {},
   "source": [
    "<h4>Maximum Likelihood Difference Scaling</h4>\n",
    "\n",
    "Wir haben 4 Skalierungsstufen (2, 4, 8 und 16) sowie 5 Komprimierungsstufen (30, 60, 75, 85 und 95). \n"
   ]
  },
  {
   "cell_type": "markdown",
   "id": "dated-billy",
   "metadata": {},
   "source": [
    "<img src=\"images/mlds1.jpg\" />"
   ]
  },
  {
   "cell_type": "markdown",
   "id": "finished-sarah",
   "metadata": {},
   "source": [
    "<img src=\"images/mlds2.jpg\" />"
   ]
  },
  {
   "cell_type": "markdown",
   "id": "fourth-aquatic",
   "metadata": {},
   "source": [
    "## 3. Ergebnisse"
   ]
  },
  {
   "cell_type": "code",
   "execution_count": null,
   "id": "adaptive-librarian",
   "metadata": {},
   "outputs": [],
   "source": []
  },
  {
   "cell_type": "code",
   "execution_count": null,
   "id": "infectious-potter",
   "metadata": {},
   "outputs": [],
   "source": []
  },
  {
   "cell_type": "markdown",
   "id": "contrary-tracy",
   "metadata": {},
   "source": [
    "#### Horizontal Cut (Landschaft)\n",
    "<img src=\"images/landscape/horizontal_cut_scaling.png\" width=\"85%\" />"
   ]
  },
  {
   "cell_type": "markdown",
   "id": "certain-consideration",
   "metadata": {},
   "source": [
    "Und hier noch einmal für alle Komprimierungsstufen nach Anwendung der Super-Resolution:\n",
    "\n",
    "<img src=\"images/landscape/horizontal_cut_compression.png\" width=\"85%\" />"
   ]
  },
  {
   "cell_type": "markdown",
   "id": "elementary-intelligence",
   "metadata": {},
   "source": [
    "<h4>Auswertung für verschiedene Skalierungsstufen</h4>\n",
    "\n",
    "<img src=\"images/res_scaling.png\" />"
   ]
  },
  {
   "cell_type": "markdown",
   "id": "close-arrival",
   "metadata": {},
   "source": [
    "<h4>Auswertung für verschiedene Komprimierungsstufen</h4>\n",
    "\n",
    "<img src=\"images/res_comp.png\" />"
   ]
  },
  {
   "cell_type": "markdown",
   "id": "infrared-recruitment",
   "metadata": {},
   "source": [
    "## 4. Diskussion\n",
    "Dass Samy schwul ist, steht nicht zur Diskussion"
   ]
  },
  {
   "cell_type": "markdown",
   "id": "international-coordinator",
   "metadata": {},
   "source": [
    "## 5. Anhang\n",
    "\n",
    "### Unsere Bilder\n",
    "\n",
    "<table class=\"table\">\n",
    "    <tr>\n",
    "        <th style=\"text-align:center\"></th>\n",
    "        <th style=\"text-align:center\">Cartoon</th>\n",
    "        <th style=\"text-align:center\">Gesicht</th>\n",
    "        <th style=\"text-align:center\">Landschaft</th>\n",
    "    </tr>\n",
    "    <tr>\n",
    "        <td style=\"text-align:center\">Original</td>\n",
    "        <td style=\"text-align:center\"><a href=\"images/cartoon/original.jpg\">Zum Bild</a></td>\n",
    "        <td style=\"text-align:center\"><a href=\"images/face/original.jpg\">Zum Bild</a></td>\n",
    "        <td style=\"text-align:center\"><a href=\"images/landscape/original.jpg\">Zum Bild</a></td>\n",
    "    </tr>\n",
    "    <tr>\n",
    "        <td style=\"text-align:center\">Skalierungsstufe 2</td>\n",
    "        <td style=\"text-align:center\"><a href=\"images/cartoon/x2_scaled.jpg\">Zum Bild</a></td>\n",
    "        <td style=\"text-align:center\"><a href=\"images/face/x2_scaled.jpg\">Zum Bild</a></td>\n",
    "        <td style=\"text-align:center\"><a href=\"images/landscape/x2_scaled.jpg\">Zum Bild</a></td>\n",
    "    </tr>\n",
    "    <tr>\n",
    "        <td style=\"text-align:center\">Skalierungsstufe 4</td>\n",
    "        <td style=\"text-align:center\"><a href=\"images/cartoon/x4_scaled.jpg\">Zum Bild</a></td>\n",
    "        <td style=\"text-align:center\"><a href=\"images/face/x4_scaled.jpg\">Zum Bild</a></td>\n",
    "        <td style=\"text-align:center\"><a href=\"images/landscape/x4_scaled.jpg\">Zum Bild</a></td>\n",
    "    </tr>\n",
    "    <tr>\n",
    "        <td style=\"text-align:center\">Skalierungsstufe 8</td>\n",
    "        <td style=\"text-align:center\"><a href=\"images/cartoon/x8_scaled.jpg\">Zum Bild</a></td>\n",
    "        <td style=\"text-align:center\"><a href=\"images/face/x8_scaled.jpg\">Zum Bild</a></td>\n",
    "        <td style=\"text-align:center\"><a href=\"images/landscape/x8_scaled.jpg\">Zum Bild</a></td>\n",
    "    </tr>\n",
    "    <tr>\n",
    "        <td style=\"text-align:center\">Skalierungsstufe 16</td>\n",
    "        <td style=\"text-align:center\"><a href=\"images/cartoon/x16_scaled.jpg\">Zum Bild</a></td>\n",
    "        <td style=\"text-align:center\"><a href=\"images/face/x16_scaled.jpg\">Zum Bild</a></td>\n",
    "        <td style=\"text-align:center\"><a href=\"images/landscape/x16_scaled.jpg\">Zum Bild</a></td>\n",
    "    </tr>\n",
    "    <tr>\n",
    "        <td style=\"text-align:center\">30% Komprimierung</td>\n",
    "        <td style=\"text-align:center\"><a href=\"images/cartoon/30_scaled.jpg\">Zum Bild</a></td>\n",
    "        <td style=\"text-align:center\"><a href=\"images/face/30_scaled.jpg\">Zum Bild</a></td>\n",
    "        <td style=\"text-align:center\"><a href=\"images/landscape/30_scaled.jpg\">Zum Bild</a></td>\n",
    "    </tr>\n",
    "    <tr>\n",
    "        <td style=\"text-align:center\">60% Komprimierung</td>\n",
    "        <td style=\"text-align:center\"><a href=\"images/cartoon/60_scaled.jpg\">Zum Bild</a></td>\n",
    "        <td style=\"text-align:center\"><a href=\"images/face/60_scaled.jpg\">Zum Bild</a></td>\n",
    "        <td style=\"text-align:center\"><a href=\"images/landscape/60_scaled.jpg\">Zum Bild</a></td>\n",
    "    </tr>\n",
    "    <tr>\n",
    "        <td style=\"text-align:center\">75% Komprimierung</td>\n",
    "        <td style=\"text-align:center\"><a href=\"images/cartoon/75_scaled.jpg\">Zum Bild</a></td>\n",
    "        <td style=\"text-align:center\"><a href=\"images/face/75_scaled.jpg\">Zum Bild</a></td>\n",
    "        <td style=\"text-align:center\"><a href=\"images/landscape/75_scaled.jpg\">Zum Bild</a></td>\n",
    "    </tr>\n",
    "    <tr>\n",
    "        <td style=\"text-align:center\">85% Komprimierung</td>\n",
    "        <td style=\"text-align:center\"><a href=\"images/cartoon/85_scaled.jpg\">Zum Bild</a></td>\n",
    "        <td style=\"text-align:center\"><a href=\"images/face/85_scaled.jpg\">Zum Bild</a></td>\n",
    "        <td style=\"text-align:center\"><a href=\"images/landscape/85_scaled.jpg\">Zum Bild</a></td>\n",
    "    </tr>\n",
    "    <tr>\n",
    "        <td style=\"text-align:center\">95% Komprimierung</td>\n",
    "        <td style=\"text-align:center\"><a href=\"images/cartoon/95_scaled.jpg\">Zum Bild</a></td>\n",
    "        <td style=\"text-align:center\"><a href=\"images/face/95_scaled.jpg\">Zum Bild</a></td>\n",
    "        <td style=\"text-align:center\"><a href=\"images/landscape/95_scaled.jpg\">Zum Bild</a></td>\n",
    "    </tr>\n",
    "    <tr>\n",
    "        <td style=\"text-align:center\">Horizontal Cut (verschiedene Skalierungsstufen)</td>\n",
    "        <td style=\"text-align:center\"><a href=\"images/cartoon/horizontal_cut_scaling.png\">Zum Bild</a></td>\n",
    "        <td style=\"text-align:center\"><a href=\"images/face/horizontal_cut_scaling.png\">Zum Bild</a></td>\n",
    "        <td style=\"text-align:center\"><a href=\"images/landscape/horizontal_cut_scaling.png\">Zum Bild</a></td>\n",
    "    </tr>\n",
    "    <tr>\n",
    "        <td style=\"text-align:center\">Horizontal Cut (verschiedene Komprimierungsstufen)</td>\n",
    "        <td style=\"text-align:center\"><a href=\"images/cartoon/horizontal_cut_compression.png\">Zum Bild</a></td>\n",
    "        <td style=\"text-align:center\"><a href=\"images/face/horizontal_cut_compression.png\">Zum Bild</a></td>\n",
    "        <td style=\"text-align:center\"><a href=\"images/landscape/horizontal_cut_compression.png\">Zum Bild</a></td>\n",
    "    </tr>\n",
    "</table>"
   ]
  },
  {
   "cell_type": "markdown",
   "id": "welcome-innocent",
   "metadata": {},
   "source": [
    "### Referenzen\n",
    "\n",
    "C. Charrier, L. Maloney, H. Cherifi, and K. Knoblauch, \"Maximum likelihood difference scaling of image quality in compression-degraded images,\" J. Opt. Soc. Am. A  24, 3418-3426 (2007)."
   ]
  },
  {
   "cell_type": "code",
   "execution_count": null,
   "id": "excited-prize",
   "metadata": {},
   "outputs": [],
   "source": []
  }
 ],
 "metadata": {
  "kernelspec": {
   "display_name": "Python 3",
   "language": "python",
   "name": "python3"
  },
  "language_info": {
   "codemirror_mode": {
    "name": "ipython",
    "version": 3
   },
   "file_extension": ".py",
   "mimetype": "text/x-python",
   "name": "python",
   "nbconvert_exporter": "python",
   "pygments_lexer": "ipython3",
   "version": "3.7.6"
  }
 },
 "nbformat": 4,
 "nbformat_minor": 5
}
