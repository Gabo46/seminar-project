{
 "cells": [
  {
   "cell_type": "markdown",
   "id": "attractive-malawi",
   "metadata": {},
   "source": [
    "# Auswirkungen der Image-Superresolution auf die Bildqualität"
   ]
  },
  {
   "cell_type": "markdown",
   "id": "smoking-sharp",
   "metadata": {},
   "source": [
    "### Gabriel Dogadov, Rasmy Hamdad, Mhamad Ayden, Alex Frank"
   ]
  },
  {
   "cell_type": "code",
   "execution_count": null,
   "id": "constant-conversation",
   "metadata": {},
   "outputs": [],
   "source": []
  }
 ],
 "metadata": {
  "kernelspec": {
   "display_name": "Python 3",
   "language": "python",
   "name": "python3"
  },
  "language_info": {
   "codemirror_mode": {
    "name": "ipython",
    "version": 3
   },
   "file_extension": ".py",
   "mimetype": "text/x-python",
   "name": "python",
   "nbconvert_exporter": "python",
   "pygments_lexer": "ipython3",
   "version": "3.7.6"
  }
 },
 "nbformat": 4,
 "nbformat_minor": 5
}
