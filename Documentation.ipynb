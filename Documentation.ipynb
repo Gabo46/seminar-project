{
 "cells": [
  {
   "cell_type": "markdown",
   "id": "positive-honey",
   "metadata": {},
   "source": [
    "# Auswirkungen der Image-Superresolution auf die Bildqualität"
   ]
  },
  {
   "cell_type": "markdown",
   "id": "biological-finder",
   "metadata": {},
   "source": [
    "### Gabriel Dogadov, Rasmy Hamdad, Mhamad Ayden, Alex Frank"
   ]
  },
  {
   "cell_type": "markdown",
   "id": "constitutional-documentary",
   "metadata": {},
   "source": [
    "## 1. Einleitung\n",
    "Machine Learning ist gerade vallah krass und besonders für Computer Vision richtig mashallah\n"
   ]
  },
  {
   "cell_type": "markdown",
   "id": "middle-nightmare",
   "metadata": {},
   "source": [
    "## Hypothesen\n",
    "\n",
    "1. Bei kleinen Vergrößerungs- und Komprimierungsstufen ist ein Qualitätsunterschied kaum wahrnehmbar.\n",
    "\n",
    "2. Bei größeren Vergrößerungs- und Komprimierungsstufen verschlechtert sich die Bildqualität spürbar.\n"
   ]
  },
  {
   "cell_type": "markdown",
   "id": "mighty-gallery",
   "metadata": {},
   "source": [
    "## 2. Experimentelles Design\n",
    "Wir haben Samy genommen und ihm gesagt er sei schwul. Er hat gestanden."
   ]
  },
  {
   "cell_type": "markdown",
   "id": "nonprofit-billion",
   "metadata": {},
   "source": [
    "### JPEG Komprimierung der Bilder mittels PIL"
   ]
  },
  {
   "cell_type": "markdown",
   "id": "biological-disco",
   "metadata": {},
   "source": [
    "```python\n",
    "from PIL import Image\n",
    "\n",
    "rates = [30, 60, 75, 85, 95] # Compression rates\n",
    "\n",
    "def save_compressed(img, directory):\n",
    "    for rate in rates:\n",
    "        quality = 100 - rate\n",
    "        img.save(\"{}/{}.jpg\".format(directory, rate), \"JPEG\", quality=quality)\n",
    "\n",
    "img = Image.open(\"PATH_TO_IMG\")\n",
    "save_compressed(face, \"PATH_TO_FOLDER_WITH_IMAGES\")\n",
    "```"
   ]
  },
  {
   "cell_type": "markdown",
   "id": "therapeutic-canyon",
   "metadata": {},
   "source": [
    "### Image Superresolution mit der <a href=\"https://github.com/idealo/image-super-resolution\" target=\"_blank\">Idealo ISR Library</a>"
   ]
  },
  {
   "cell_type": "markdown",
   "id": "heavy-exclusive",
   "metadata": {},
   "source": [
    "```python\n",
    "import numpy as np\n",
    "from PIL import Image\n",
    "from ISR.models import RDN\n",
    "\n",
    "def scale_up(rdn, directory):\n",
    "    \"\"\"\n",
    "    Upscaling für die Bilder in verschiedenen Stufen (x2, x4, x8, x16)\n",
    "    \n",
    "    Parameter\n",
    "    ---------\n",
    "    rdn : RDN\n",
    "        Trainiertes Neuronales Netzwerk\n",
    "    directory : str\n",
    "        Pfad zum Ordner mit den Bildern\n",
    "    \n",
    "    \"\"\"\n",
    "    for i in range(1, 5):\n",
    "        factor = 2**i\n",
    "        current_image = np.array(Image.open(\"{}/x{}.jpg\".format(directory, factor)))\n",
    "        for j in range(i):\n",
    "            current_image = rdn.predict(current_image)\n",
    "        Image.fromarray(current_image).save(\"{}/x{}_scaled.jpg\".format(directory, factor), \"JPEG\", quality=100)\n",
    "\n",
    "def scale_up2(rdn, directory, rates):\n",
    "    \"\"\"\n",
    "    Upscaling für die Bilder (x2) mit Noise-Cancellation\n",
    "    \n",
    "    Parameter\n",
    "    ---------\n",
    "    rdn : RDN\n",
    "        Trainiertes Neuronales Netzwerk\n",
    "    directory : str\n",
    "        Pfad zum Ordner mit den Bildern\n",
    "    rates : list\n",
    "        Liste mit Komprimierungsstufen als Ganzzahl (0-100)\n",
    "    \n",
    "    \"\"\"\n",
    "    for rate in rates:\n",
    "        current_image = np.array(Image.open(\"{}/{}.jpg\".format(directory, rate)))\n",
    "        current_image = rdn.predict(current_image)\n",
    "        Image.fromarray(current_image).save(\"{}/{}_scaled.jpg\".format(directory, rate), \"JPEG\", quality=100)\n",
    "        \n",
    "rdn = RDN(weights='psnr-small') # Nur Upscaling\n",
    "rdn2 = RDN(weights='noise-cancel') # Upscaling + Noise cancellation\n",
    "        \n",
    "scale_up(rdn, \"PATH_TO_FOLDER_WITH_IMAGES\")\n",
    "scale_up2(rdn2, \"PATH_TO_FOLDER_WITH_IMAGES\", rates = [30, 60, 75, 85, 95])\n",
    "   \n",
    "```"
   ]
  },
  {
   "cell_type": "markdown",
   "id": "breathing-connection",
   "metadata": {},
   "source": [
    "## 3. Ergebnisse\n",
    "Alles wie geplant"
   ]
  },
  {
   "cell_type": "markdown",
   "id": "chief-evans",
   "metadata": {},
   "source": [
    "## 4. Diskussion\n",
    "Dass Samy schwul ist, steht nicht zur Diskussion"
   ]
  }
 ],
 "metadata": {
  "kernelspec": {
   "display_name": "Python 3",
   "language": "python",
   "name": "python3"
  },
  "language_info": {
   "codemirror_mode": {
    "name": "ipython",
    "version": 3
   },
   "file_extension": ".py",
   "mimetype": "text/x-python",
   "name": "python",
   "nbconvert_exporter": "python",
   "pygments_lexer": "ipython3",
   "version": "3.7.6"
  }
 },
 "nbformat": 4,
 "nbformat_minor": 5
}
