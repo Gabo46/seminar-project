{
 "cells": [
  {
   "cell_type": "code",
   "execution_count": 1,
   "id": "premier-thesis",
   "metadata": {},
   "outputs": [],
   "source": [
    "import numpy as np\n",
    "from PIL import Image\n",
    "from ISR.models import RDN"
   ]
  },
  {
   "cell_type": "code",
   "execution_count": 2,
   "id": "stuffed-client",
   "metadata": {},
   "outputs": [],
   "source": [
    "def scale_up(rdn, directory):\n",
    "    for i in range(1, 5):\n",
    "        factor = 2**i\n",
    "        current_image = np.array(Image.open(\"{}/x{}.jpg\".format(directory, factor)))\n",
    "        for j in range(i):\n",
    "            current_image = rdn.predict(current_image)\n",
    "        Image.fromarray(current_image).save(\"{}/x{}_scaled.jpg\".format(directory, factor), \"JPEG\", quality=100)"
   ]
  },
  {
   "cell_type": "code",
   "execution_count": null,
   "id": "offshore-oliver",
   "metadata": {},
   "outputs": [],
   "source": [
    "rdn = RDN(weights='psnr-small')"
   ]
  },
  {
   "cell_type": "code",
   "execution_count": null,
   "id": "level-charter",
   "metadata": {},
   "outputs": [],
   "source": [
    "scale_up(rdn, \"images/landscape\")"
   ]
  },
  {
   "cell_type": "code",
   "execution_count": 3,
   "id": "caring-playlist",
   "metadata": {},
   "outputs": [],
   "source": [
    "rrdn = RDN(weights='noise-cancel') # alt: gans"
   ]
  },
  {
   "cell_type": "code",
   "execution_count": 4,
   "id": "improving-nepal",
   "metadata": {},
   "outputs": [],
   "source": [
    "def scale_up2(rdn, directory, rates):\n",
    "    for rate in rates:\n",
    "        current_image = np.array(Image.open(\"{}/{}.jpg\".format(directory, rate)))\n",
    "        current_image = rdn.predict(current_image)\n",
    "        Image.fromarray(current_image).save(\"{}/{}_scaled.jpg\".format(directory, rate), \"JPEG\", quality=100)"
   ]
  },
  {
   "cell_type": "code",
   "execution_count": 5,
   "id": "everyday-astrology",
   "metadata": {},
   "outputs": [],
   "source": [
    "scale_up2(rrdn, \"images/face\", rates = [30, 60, 75, 85, 95])"
   ]
  },
  {
   "cell_type": "code",
   "execution_count": null,
   "id": "knowing-investor",
   "metadata": {},
   "outputs": [],
   "source": []
  }
 ],
 "metadata": {
  "kernelspec": {
   "display_name": "Python 3",
   "language": "python",
   "name": "python3"
  },
  "language_info": {
   "codemirror_mode": {
    "name": "ipython",
    "version": 3
   },
   "file_extension": ".py",
   "mimetype": "text/x-python",
   "name": "python",
   "nbconvert_exporter": "python",
   "pygments_lexer": "ipython3",
   "version": "3.7.6"
  }
 },
 "nbformat": 4,
 "nbformat_minor": 5
}
