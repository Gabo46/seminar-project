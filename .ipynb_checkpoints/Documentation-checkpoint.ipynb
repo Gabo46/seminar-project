{
 "cells": [
  {
   "cell_type": "markdown",
   "id": "sized-failure",
   "metadata": {},
   "source": [
    "# Auswirkungen der Image-Superresolution auf die Bildqualität"
   ]
  },
  {
   "cell_type": "markdown",
   "id": "african-morgan",
   "metadata": {},
   "source": [
    "### Gabriel Dogadov, Rasmy Hamdad, Mhamad Ayden, Alex Frank"
   ]
  },
  {
   "cell_type": "markdown",
   "id": "answering-radius",
   "metadata": {},
   "source": [
    "## 1. Einleitung\n",
    "Machine Learning ist gerade vallah krass und besonders für Computer Vision richtig mashallah\n"
   ]
  },
  {
   "cell_type": "markdown",
   "id": "responsible-gazette",
   "metadata": {},
   "source": [
    "## Hypothesen\n",
    "\n",
    "1. Bei kleinen Vergrößerungs- und Komprimierungsstufen ist ein Qualitätsunterschied kaum wahrnehmbar.\n",
    "\n",
    "2. Bei größeren Vergrößerungs- und Komprimierungsstufen verschlechtert sich die Bildqualität spürbar.\n"
   ]
  },
  {
   "cell_type": "markdown",
   "id": "turned-mobile",
   "metadata": {},
   "source": [
    "## 2. Experimentelles Design\n",
    "Wir haben Samy genommen und ihm gesagt er sei schwul. Er hat gestanden."
   ]
  },
  {
   "cell_type": "markdown",
   "id": "minimal-harvey",
   "metadata": {},
   "source": [
    "### JPEG Komprimierung der Bilder mittels PIL"
   ]
  },
  {
   "cell_type": "markdown",
   "id": "incredible-reflection",
   "metadata": {},
   "source": [
    "```python\n",
    "from PIL import Image\n",
    "\n",
    "rates = [30, 60, 75, 85, 95] # Compression rates\n",
    "\n",
    "def save_compressed(img, directory):\n",
    "    \"\"\"\n",
    "    Speichert das Bild in verschiedenen Komprimierungsstufen\n",
    "    \n",
    "    Parameter\n",
    "    ---------\n",
    "    img : Image\n",
    "        Das Bild, welches komprimiert werden soll\n",
    "    directory : str\n",
    "        Pfad, in dem die komprimierten Bilder hinterlegt werden sollen\n",
    "    \n",
    "    \"\"\"\n",
    "    \n",
    "    for rate in rates:\n",
    "        quality = 100 - rate\n",
    "        img.save(\"{}/{}.jpg\".format(directory, rate), \"JPEG\", quality=quality)\n",
    "\n",
    "img = Image.open(\"PATH_TO_IMG\")\n",
    "save_compressed(face, \"PATH_TO_FOLDER_WITH_IMAGES\")\n",
    "```"
   ]
  },
  {
   "cell_type": "markdown",
   "id": "nominated-functionality",
   "metadata": {},
   "source": [
    "### Image Superresolution mit der <a href=\"https://github.com/idealo/image-super-resolution\" target=\"_blank\">Idealo ISR Library</a>"
   ]
  },
  {
   "cell_type": "markdown",
   "id": "professional-trauma",
   "metadata": {},
   "source": [
    "```python\n",
    "import numpy as np\n",
    "from PIL import Image\n",
    "from ISR.models import RDN\n",
    "\n",
    "def scale_up(rdn, directory):\n",
    "    \"\"\"\n",
    "    Upscaling für die Bilder in verschiedenen Stufen (x2, x4, x8, x16)\n",
    "    \n",
    "    Parameter\n",
    "    ---------\n",
    "    rdn : RDN\n",
    "        Trainiertes Neuronales Netzwerk\n",
    "    directory : str\n",
    "        Pfad zum Ordner mit den Bildern\n",
    "    \n",
    "    \"\"\"\n",
    "    \n",
    "    for i in range(1, 5):\n",
    "        factor = 2**i\n",
    "        current_image = np.array(Image.open(\"{}/x{}.jpg\".format(directory, factor)))\n",
    "        for j in range(i):\n",
    "            current_image = rdn.predict(current_image)\n",
    "        Image.fromarray(current_image).save(\"{}/x{}_scaled.jpg\".format(directory, factor), \"JPEG\", quality=100)\n",
    "\n",
    "def scale_up2(rdn, directory, rates):\n",
    "    \"\"\"\n",
    "    Upscaling für die Bilder (x2) mit Noise-Cancellation\n",
    "    \n",
    "    Parameter\n",
    "    ---------\n",
    "    rdn : RDN\n",
    "        Trainiertes Neuronales Netzwerk\n",
    "    directory : str\n",
    "        Pfad zum Ordner mit den Bildern\n",
    "    rates : list\n",
    "        Liste mit Komprimierungsstufen als Ganzzahl (0-100)\n",
    "    \n",
    "    \"\"\"\n",
    "    \n",
    "    for rate in rates:\n",
    "        current_image = np.array(Image.open(\"{}/{}.jpg\".format(directory, rate)))\n",
    "        current_image = rdn.predict(current_image)\n",
    "        Image.fromarray(current_image).save(\"{}/{}_scaled.jpg\".format(directory, rate), \"JPEG\", quality=100)\n",
    "        \n",
    "rdn = RDN(weights='psnr-small') # Nur Upscaling\n",
    "rdn2 = RDN(weights='noise-cancel') # Upscaling + Noise cancellation\n",
    "        \n",
    "scale_up(rdn, \"PATH_TO_FOLDER_WITH_IMAGES\")\n",
    "scale_up2(rdn2, \"PATH_TO_FOLDER_WITH_IMAGES\", rates = [30, 60, 75, 85, 95])\n",
    "   \n",
    "```"
   ]
  },
  {
   "cell_type": "markdown",
   "id": "completed-louisiana",
   "metadata": {},
   "source": [
    "## 3. Ergebnisse\n",
    "\n",
    "Alles wie geplant"
   ]
  },
  {
   "cell_type": "markdown",
   "id": "center-color",
   "metadata": {},
   "source": [
    "#### Horizontal Cut (Landschaft)\n",
    "<img src=\"images/landscape/horizontal_cut_scaling.png\" width=\"85%\" />"
   ]
  },
  {
   "cell_type": "markdown",
   "id": "younger-target",
   "metadata": {},
   "source": [
    "Und hier noch einmal für alle Komprimierungsstufen nach Anwendung der Super-Resolution:\n",
    "\n",
    "<img src=\"images/landscape/horizontal_cut_compression.png\" width=\"85%\" />"
   ]
  },
  {
   "cell_type": "markdown",
   "id": "centered-isolation",
   "metadata": {},
   "source": [
    "## 4. Diskussion\n",
    "Dass Samy schwul ist, steht nicht zur Diskussion"
   ]
  },
  {
   "cell_type": "markdown",
   "id": "wrapped-titanium",
   "metadata": {},
   "source": [
    "## 5. Anhang\n",
    "\n",
    "### Unsere Bilder\n",
    "\n",
    "<table class=\"table\">\n",
    "    <tr>\n",
    "        <th style=\"text-align:center\"></th>\n",
    "        <th style=\"text-align:center\">Cartoon</th>\n",
    "        <th style=\"text-align:center\">Gesicht</th>\n",
    "        <th style=\"text-align:center\">Landschaft</th>\n",
    "    </tr>\n",
    "    <tr>\n",
    "        <td style=\"text-align:center\">Original</td>\n",
    "        <td style=\"text-align:center\"><a href=\"images/cartoon/original.jpg\">cartoon/original.jpg</a></td>\n",
    "        <td style=\"text-align:center\"><a href=\"images/face/original.jpg\">face/original.jpg</a></td>\n",
    "        <td style=\"text-align:center\"><a href=\"images/landscape/original.jpg\">landscape/original.jpg</a></td>\n",
    "    </tr>\n",
    "    <tr>\n",
    "        <td style=\"text-align:center\">Skalierungsstufe 2</td>\n",
    "        <td style=\"text-align:center\"><a href=\"images/cartoon/x2_scaled.jpg\">cartoon/x2_scaled.jpg</a></td>\n",
    "        <td style=\"text-align:center\"><a href=\"images/face/x2_scaled.jpg\">face/x2_scaled.jpg</a></td>\n",
    "        <td style=\"text-align:center\"><a href=\"images/landscape/x2_scaled.jpg\">landscape/x2_scaled.jpg</a></td>\n",
    "    </tr>\n",
    "    <tr>\n",
    "        <td style=\"text-align:center\">Skalierungsstufe 4</td>\n",
    "        <td style=\"text-align:center\"><a href=\"images/cartoon/x4_scaled.jpg\">cartoon/x4_scaled.jpg</a></td>\n",
    "        <td style=\"text-align:center\"><a href=\"images/face/x4_scaled.jpg\">face/x4_scaled.jpg</a></td>\n",
    "        <td style=\"text-align:center\"><a href=\"images/landscape/x4_scaled.jpg\">landscape/x4_scaled.jpg</a></td>\n",
    "    </tr>\n",
    "    <tr>\n",
    "        <td style=\"text-align:center\">Skalierungsstufe 8</td>\n",
    "        <td style=\"text-align:center\"><a href=\"images/cartoon/x8_scaled.jpg\">cartoon/x8_scaled.jpg</a></td>\n",
    "        <td style=\"text-align:center\"><a href=\"images/face/x8_scaled.jpg\">face/x8_scaled.jpg</a></td>\n",
    "        <td style=\"text-align:center\"><a href=\"images/landscape/x8_scaled.jpg\">landscape/x8_scaled.jpg</a></td>\n",
    "    </tr>\n",
    "    <tr>\n",
    "        <td style=\"text-align:center\">Skalierungsstufe 16</td>\n",
    "        <td style=\"text-align:center\"><a href=\"images/cartoon/x16_scaled.jpg\">cartoon/x16_scaled.jpg</a></td>\n",
    "        <td style=\"text-align:center\"><a href=\"images/face/x16_scaled.jpg\">face/x16_scaled.jpg</a></td>\n",
    "        <td style=\"text-align:center\"><a href=\"images/landscape/x16_scaled.jpg\">landscape/x16_scaled.jpg</a></td>\n",
    "    </tr>\n",
    "    <tr>\n",
    "        <td style=\"text-align:center\">30% Komprimierung</td>\n",
    "        <td style=\"text-align:center\"><a href=\"images/cartoon/30_scaled.jpg\">cartoon/30_scaled.jpg</a></td>\n",
    "        <td style=\"text-align:center\"><a href=\"images/face/30_scaled.jpg\">face/30_scaled.jpg</a></td>\n",
    "        <td style=\"text-align:center\"><a href=\"images/landscape/30_scaled.jpg\">landscape/30_scaled.jpg</a></td>\n",
    "    </tr>\n",
    "    <tr>\n",
    "        <td style=\"text-align:center\">60% Komprimierung</td>\n",
    "        <td style=\"text-align:center\"><a href=\"images/cartoon/60_scaled.jpg\">cartoon/60_scaled.jpg</a></td>\n",
    "        <td style=\"text-align:center\"><a href=\"images/face/60_scaled.jpg\">face/60_scaled.jpg</a></td>\n",
    "        <td style=\"text-align:center\"><a href=\"images/landscape/60_scaled.jpg\">landscape/60_scaled.jpg</a></td>\n",
    "    </tr>\n",
    "    <tr>\n",
    "        <td style=\"text-align:center\">75% Komprimierung</td>\n",
    "        <td style=\"text-align:center\"><a href=\"images/cartoon/75_scaled.jpg\">cartoon/75_scaled.jpg</a></td>\n",
    "        <td style=\"text-align:center\"><a href=\"images/face/75_scaled.jpg\">face/75_scaled.jpg</a></td>\n",
    "        <td style=\"text-align:center\"><a href=\"images/landscape/75_scaled.jpg\">landscape/75_scaled.jpg</a></td>\n",
    "    </tr>\n",
    "    <tr>\n",
    "        <td style=\"text-align:center\">85% Komprimierung</td>\n",
    "        <td style=\"text-align:center\"><a href=\"images/cartoon/85_scaled.jpg\">cartoon/85_scaled.jpg</a></td>\n",
    "        <td style=\"text-align:center\"><a href=\"images/face/85_scaled.jpg\">face/85_scaled.jpg</a></td>\n",
    "        <td style=\"text-align:center\"><a href=\"images/landscape/85_scaled.jpg\">landscape/85_scaled.jpg</a></td>\n",
    "    </tr>\n",
    "    <tr>\n",
    "        <td style=\"text-align:center\">95% Komprimierung</td>\n",
    "        <td style=\"text-align:center\"><a href=\"images/cartoon/95_scaled.jpg\">cartoon/95_scaled.jpg</a></td>\n",
    "        <td style=\"text-align:center\"><a href=\"images/face/95_scaled.jpg\">face/95_scaled.jpg</a></td>\n",
    "        <td style=\"text-align:center\"><a href=\"images/landscape/95_scaled.jpg\">landscape/95_scaled.jpg</a></td>\n",
    "    </tr>\n",
    "</table>"
   ]
  },
  {
   "cell_type": "code",
   "execution_count": null,
   "id": "dense-assessment",
   "metadata": {},
   "outputs": [],
   "source": []
  }
 ],
 "metadata": {
  "kernelspec": {
   "display_name": "Python 3",
   "language": "python",
   "name": "python3"
  },
  "language_info": {
   "codemirror_mode": {
    "name": "ipython",
    "version": 3
   },
   "file_extension": ".py",
   "mimetype": "text/x-python",
   "name": "python",
   "nbconvert_exporter": "python",
   "pygments_lexer": "ipython3",
   "version": "3.7.6"
  }
 },
 "nbformat": 4,
 "nbformat_minor": 5
}
