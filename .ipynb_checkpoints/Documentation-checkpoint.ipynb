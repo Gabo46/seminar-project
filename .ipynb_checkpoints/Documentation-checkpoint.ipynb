{
 "cells": [
  {
   "cell_type": "code",
   "execution_count": 13,
   "id": "automotive-september",
   "metadata": {},
   "outputs": [],
   "source": [
    "import IPython"
   ]
  },
  {
   "cell_type": "code",
   "execution_count": 33,
   "id": "familiar-official",
   "metadata": {},
   "outputs": [
    {
     "data": {
      "text/html": [
       "\n",
       "<link rel=\"stylesheet\" href=\"https://cdn.jsdelivr.net/npm/@splidejs/splide@latest/dist/css/themes/splide-skyblue.min.css\">\n",
       "<script src=\"https://cdn.jsdelivr.net/npm/@splidejs/splide@latest/dist/js/splide.min.js\"></script>\n",
       "\n",
       "<div class=\"splide\">\n",
       "    <div class=\"splide__track\">\n",
       "        <ul class=\"splide__list text-center\">\n",
       "            <li class=\"splide__slide\">\n",
       "                <h3>Original</h3>\n",
       "                <img src=\"images/cartoon/original.jpg\" style=\"margin-left:auto;margin-right:auto\" />\n",
       "            </li>\n",
       "            <li class=\"splide__slide\">\n",
       "                <h3>Skalierungsfaktor: 2</h3>\n",
       "                <img src=\"images/cartoon/x2_scaled.jpg\" style=\"margin-left:auto;margin-right:auto\" />\n",
       "            </li>\n",
       "            <li class=\"splide__slide\">\n",
       "                <h3>Skalierungsfaktor: 4</h3>\n",
       "                <img src=\"images/cartoon/x4_scaled.jpg\" style=\"margin-left:auto;margin-right:auto\" />\n",
       "            </li>\n",
       "            <li class=\"splide__slide\">\n",
       "                <h3>Skalierungsfaktor: 8</h3>\n",
       "                <img src=\"images/cartoon/x8_scaled.jpg\" style=\"margin-left:auto;margin-right:auto\" />\n",
       "            </li>\n",
       "            <li class=\"splide__slide\">\n",
       "                <h3>Skalierungsfaktor: 16</h3>\n",
       "                <img src=\"images/cartoon/x16_scaled.jpg\" style=\"margin-left:auto;margin-right:auto\" />\n",
       "            </li>\n",
       "        </ul>\n",
       "    </div>\n",
       "</div>\n",
       "\n",
       "<script>\n",
       "    new Splide('.splide', {\n",
       "        type: 'loop',\n",
       "        autoplay: true\n",
       "    }).mount();\n",
       "</script>\n"
      ],
      "text/plain": [
       "<IPython.core.display.HTML object>"
      ]
     },
     "execution_count": 33,
     "metadata": {},
     "output_type": "execute_result"
    }
   ],
   "source": [
    "html = \"\"\"\n",
    "<link rel=\"stylesheet\" href=\"https://cdn.jsdelivr.net/npm/@splidejs/splide@latest/dist/css/themes/splide-skyblue.min.css\">\n",
    "<script src=\"https://cdn.jsdelivr.net/npm/@splidejs/splide@latest/dist/js/splide.min.js\"></script>\n",
    "\n",
    "<div class=\"splide\">\n",
    "    <div class=\"splide__track\">\n",
    "        <ul class=\"splide__list text-center\">\n",
    "            <li class=\"splide__slide\">\n",
    "                <h3>Original</h3>\n",
    "                <img src=\"images/cartoon/original.jpg\" style=\"margin-left:auto;margin-right:auto\" />\n",
    "            </li>\n",
    "            <li class=\"splide__slide\">\n",
    "                <h3>Skalierungsfaktor: 2</h3>\n",
    "                <img src=\"images/cartoon/x2_scaled.jpg\" style=\"margin-left:auto;margin-right:auto\" />\n",
    "            </li>\n",
    "            <li class=\"splide__slide\">\n",
    "                <h3>Skalierungsfaktor: 4</h3>\n",
    "                <img src=\"images/cartoon/x4_scaled.jpg\" style=\"margin-left:auto;margin-right:auto\" />\n",
    "            </li>\n",
    "            <li class=\"splide__slide\">\n",
    "                <h3>Skalierungsfaktor: 8</h3>\n",
    "                <img src=\"images/cartoon/x8_scaled.jpg\" style=\"margin-left:auto;margin-right:auto\" />\n",
    "            </li>\n",
    "            <li class=\"splide__slide\">\n",
    "                <h3>Skalierungsfaktor: 16</h3>\n",
    "                <img src=\"images/cartoon/x16_scaled.jpg\" style=\"margin-left:auto;margin-right:auto\" />\n",
    "            </li>\n",
    "        </ul>\n",
    "    </div>\n",
    "</div>\n",
    "\n",
    "<script>\n",
    "    new Splide('.splide', {\n",
    "        type: 'loop',\n",
    "        autoplay: true\n",
    "    }).mount();\n",
    "</script>\n",
    "\"\"\"\n",
    "\n",
    "IPython.display.HTML(data=html)"
   ]
  },
  {
   "cell_type": "code",
   "execution_count": null,
   "id": "architectural-physiology",
   "metadata": {},
   "outputs": [],
   "source": []
  }
 ],
 "metadata": {
  "kernelspec": {
   "display_name": "Python 3",
   "language": "python",
   "name": "python3"
  },
  "language_info": {
   "codemirror_mode": {
    "name": "ipython",
    "version": 3
   },
   "file_extension": ".py",
   "mimetype": "text/x-python",
   "name": "python",
   "nbconvert_exporter": "python",
   "pygments_lexer": "ipython3",
   "version": "3.7.6"
  }
 },
 "nbformat": 4,
 "nbformat_minor": 5
}
