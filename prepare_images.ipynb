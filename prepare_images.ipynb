{
 "cells": [
  {
   "cell_type": "code",
   "execution_count": 1,
   "id": "specified-ocean",
   "metadata": {},
   "outputs": [],
   "source": [
    "from PIL import Image"
   ]
  },
  {
   "cell_type": "code",
   "execution_count": 8,
   "id": "royal-trader",
   "metadata": {},
   "outputs": [],
   "source": [
    "def save_compressed(img, directory, name):\n",
    "    for i in range(7):\n",
    "        quality = 100 - 15 * i\n",
    "        img.save(\"{}/{}_{}.jpg\".format(directory, name, quality), \"JPEG\", quality=quality)"
   ]
  },
  {
   "cell_type": "code",
   "execution_count": 9,
   "id": "missing-allocation",
   "metadata": {},
   "outputs": [],
   "source": [
    "face = Image.open(\"images/face/original/face_x2.jpg\")"
   ]
  },
  {
   "cell_type": "code",
   "execution_count": 10,
   "id": "monthly-tradition",
   "metadata": {},
   "outputs": [],
   "source": [
    "save_compressed(face, \"images/face/compressed\", \"face\")"
   ]
  },
  {
   "cell_type": "code",
   "execution_count": null,
   "id": "associate-bubble",
   "metadata": {},
   "outputs": [],
   "source": []
  }
 ],
 "metadata": {
  "kernelspec": {
   "display_name": "Python 3",
   "language": "python",
   "name": "python3"
  },
  "language_info": {
   "codemirror_mode": {
    "name": "ipython",
    "version": 3
   },
   "file_extension": ".py",
   "mimetype": "text/x-python",
   "name": "python",
   "nbconvert_exporter": "python",
   "pygments_lexer": "ipython3",
   "version": "3.7.6"
  }
 },
 "nbformat": 4,
 "nbformat_minor": 5
}
